{
  "nbformat": 4,
  "nbformat_minor": 0,
  "metadata": {
    "colab": {
      "provenance": []
    },
    "kernelspec": {
      "name": "python3",
      "display_name": "Python 3"
    },
    "language_info": {
      "name": "python"
    }
  },
  "cells": [
    {
      "cell_type": "code",
      "execution_count": null,
      "metadata": {
        "id": "DmpJd3OZbnNF"
      },
      "outputs": [],
      "source": []
    },
    {
      "cell_type": "markdown",
      "source": [
        "# FUNCTIONS\n",
        "1.what is the difference between between a function and a method in a python?\n",
        "> a function is independent and can be called from anywhere , while a tied to a class or object and must be called on that object or within that class.\n"
      ],
      "metadata": {
        "id": "lnbt2GpwcBg_"
      }
    },
    {
      "cell_type": "code",
      "source": [
        "# question\n",
        "x=10\n",
        "y=20\n",
        "print(x + y)\n"
      ],
      "metadata": {
        "id": "godxilZydcHD"
      },
      "execution_count": null,
      "outputs": []
    }
  ]
}